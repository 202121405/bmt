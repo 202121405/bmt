{
  "nbformat": 4,
  "nbformat_minor": 0,
  "metadata": {
    "colab": {
      "name": "21505_10주차 실습.ipynb",
      "provenance": [],
      "collapsed_sections": [],
      "authorship_tag": "ABX9TyPjNDnUy203lzA4FMK077mp",
      "include_colab_link": true
    },
    "kernelspec": {
      "name": "python3",
      "display_name": "Python 3"
    },
    "language_info": {
      "name": "python"
    }
  },
  "cells": [
    {
      "cell_type": "markdown",
      "metadata": {
        "id": "view-in-github",
        "colab_type": "text"
      },
      "source": [
        "<a href=\"https://colab.research.google.com/github/202121405/bmt/blob/main/21505_10%EC%A3%BC%EC%B0%A8_%EC%8B%A4%EC%8A%B5.ipynb\" target=\"_parent\"><img src=\"https://colab.research.google.com/assets/colab-badge.svg\" alt=\"Open In Colab\"/></a>"
      ]
    },
    {
      "cell_type": "code",
      "metadata": {
        "id": "MCugWdMkGHoB"
      },
      "source": [
        "import pandas as  pd\n",
        "import numpy as np\n",
        "import matplotlib.pyplot as plt"
      ],
      "execution_count": 1,
      "outputs": []
    },
    {
      "cell_type": "code",
      "metadata": {
        "colab": {
          "base_uri": "https://localhost:8080/"
        },
        "id": "HvgrMSzAHfKY",
        "outputId": "50ed9b48-f5d7-426d-8940-81d3adb49dc8"
      },
      "source": [
        "s = pd.Series([1, 3, 5, np.nan, 6, 8])\n",
        "s"
      ],
      "execution_count": 10,
      "outputs": [
        {
          "output_type": "execute_result",
          "data": {
            "text/plain": [
              "0    1.0\n",
              "1    3.0\n",
              "2    5.0\n",
              "3    NaN\n",
              "4    6.0\n",
              "5    8.0\n",
              "dtype: float64"
            ]
          },
          "metadata": {
            "tags": []
          },
          "execution_count": 10
        }
      ]
    },
    {
      "cell_type": "code",
      "metadata": {
        "colab": {
          "base_uri": "https://localhost:8080/"
        },
        "id": "oPF5QFFEIGI2",
        "outputId": "1a52a003-9af8-4d60-c5a1-a4affa18dcbf"
      },
      "source": [
        "type(s)"
      ],
      "execution_count": 11,
      "outputs": [
        {
          "output_type": "execute_result",
          "data": {
            "text/plain": [
              "pandas.core.series.Series"
            ]
          },
          "metadata": {
            "tags": []
          },
          "execution_count": 11
        }
      ]
    },
    {
      "cell_type": "code",
      "metadata": {
        "colab": {
          "base_uri": "https://localhost:8080/"
        },
        "id": "lqK5Q4aKItEm",
        "outputId": "5396461e-0a3a-4fab-a139-6d8367008692"
      },
      "source": [
        "dates = pd.date_range('20201113', periods=6)\n",
        "dates"
      ],
      "execution_count": 13,
      "outputs": [
        {
          "output_type": "execute_result",
          "data": {
            "text/plain": [
              "DatetimeIndex(['2020-11-13', '2020-11-14', '2020-11-15', '2020-11-16',\n",
              "               '2020-11-17', '2020-11-18'],\n",
              "              dtype='datetime64[ns]', freq='D')"
            ]
          },
          "metadata": {
            "tags": []
          },
          "execution_count": 13
        }
      ]
    },
    {
      "cell_type": "code",
      "metadata": {
        "colab": {
          "base_uri": "https://localhost:8080/",
          "height": 234
        },
        "id": "NVCI6FFaJovc",
        "outputId": "c4819f92-0d7e-4379-c055-45291075cda6"
      },
      "source": [
        "df = pd.DataFrame(np.random.randn(6,4), index=dates, columns=list('ABCD')) \n",
        "df"
      ],
      "execution_count": 17,
      "outputs": [
        {
          "output_type": "execute_result",
          "data": {
            "text/html": [
              "<div>\n",
              "<style scoped>\n",
              "    .dataframe tbody tr th:only-of-type {\n",
              "        vertical-align: middle;\n",
              "    }\n",
              "\n",
              "    .dataframe tbody tr th {\n",
              "        vertical-align: top;\n",
              "    }\n",
              "\n",
              "    .dataframe thead th {\n",
              "        text-align: right;\n",
              "    }\n",
              "</style>\n",
              "<table border=\"1\" class=\"dataframe\">\n",
              "  <thead>\n",
              "    <tr style=\"text-align: right;\">\n",
              "      <th></th>\n",
              "      <th>A</th>\n",
              "      <th>B</th>\n",
              "      <th>C</th>\n",
              "      <th>D</th>\n",
              "    </tr>\n",
              "  </thead>\n",
              "  <tbody>\n",
              "    <tr>\n",
              "      <th>2020-11-13</th>\n",
              "      <td>-1.159778</td>\n",
              "      <td>0.533576</td>\n",
              "      <td>-1.423254</td>\n",
              "      <td>-0.136933</td>\n",
              "    </tr>\n",
              "    <tr>\n",
              "      <th>2020-11-14</th>\n",
              "      <td>1.104592</td>\n",
              "      <td>-0.467886</td>\n",
              "      <td>-1.342332</td>\n",
              "      <td>1.221475</td>\n",
              "    </tr>\n",
              "    <tr>\n",
              "      <th>2020-11-15</th>\n",
              "      <td>-0.787108</td>\n",
              "      <td>-1.607984</td>\n",
              "      <td>-0.621429</td>\n",
              "      <td>1.443981</td>\n",
              "    </tr>\n",
              "    <tr>\n",
              "      <th>2020-11-16</th>\n",
              "      <td>0.820134</td>\n",
              "      <td>0.437943</td>\n",
              "      <td>1.363827</td>\n",
              "      <td>0.792386</td>\n",
              "    </tr>\n",
              "    <tr>\n",
              "      <th>2020-11-17</th>\n",
              "      <td>0.584495</td>\n",
              "      <td>-0.812996</td>\n",
              "      <td>-1.273546</td>\n",
              "      <td>0.329123</td>\n",
              "    </tr>\n",
              "    <tr>\n",
              "      <th>2020-11-18</th>\n",
              "      <td>-0.531233</td>\n",
              "      <td>-0.245963</td>\n",
              "      <td>0.484373</td>\n",
              "      <td>-0.620808</td>\n",
              "    </tr>\n",
              "  </tbody>\n",
              "</table>\n",
              "</div>"
            ],
            "text/plain": [
              "                   A         B         C         D\n",
              "2020-11-13 -1.159778  0.533576 -1.423254 -0.136933\n",
              "2020-11-14  1.104592 -0.467886 -1.342332  1.221475\n",
              "2020-11-15 -0.787108 -1.607984 -0.621429  1.443981\n",
              "2020-11-16  0.820134  0.437943  1.363827  0.792386\n",
              "2020-11-17  0.584495 -0.812996 -1.273546  0.329123\n",
              "2020-11-18 -0.531233 -0.245963  0.484373 -0.620808"
            ]
          },
          "metadata": {
            "tags": []
          },
          "execution_count": 17
        }
      ]
    },
    {
      "cell_type": "code",
      "metadata": {
        "colab": {
          "base_uri": "https://localhost:8080/",
          "height": 234
        },
        "id": "1eZB2zLhJ132",
        "outputId": "6439c06c-c769-4d37-b85c-b5161e9cd78c"
      },
      "source": [
        "df = pd.DataFrame(np.random.randn(6,4), index=dates, columns=('A','B','C','D')) \n",
        "df"
      ],
      "execution_count": 19,
      "outputs": [
        {
          "output_type": "execute_result",
          "data": {
            "text/html": [
              "<div>\n",
              "<style scoped>\n",
              "    .dataframe tbody tr th:only-of-type {\n",
              "        vertical-align: middle;\n",
              "    }\n",
              "\n",
              "    .dataframe tbody tr th {\n",
              "        vertical-align: top;\n",
              "    }\n",
              "\n",
              "    .dataframe thead th {\n",
              "        text-align: right;\n",
              "    }\n",
              "</style>\n",
              "<table border=\"1\" class=\"dataframe\">\n",
              "  <thead>\n",
              "    <tr style=\"text-align: right;\">\n",
              "      <th></th>\n",
              "      <th>A</th>\n",
              "      <th>B</th>\n",
              "      <th>C</th>\n",
              "      <th>D</th>\n",
              "    </tr>\n",
              "  </thead>\n",
              "  <tbody>\n",
              "    <tr>\n",
              "      <th>2020-11-13</th>\n",
              "      <td>0.311543</td>\n",
              "      <td>-0.256481</td>\n",
              "      <td>0.708617</td>\n",
              "      <td>-0.463063</td>\n",
              "    </tr>\n",
              "    <tr>\n",
              "      <th>2020-11-14</th>\n",
              "      <td>-1.703557</td>\n",
              "      <td>-0.346187</td>\n",
              "      <td>0.552435</td>\n",
              "      <td>-0.866188</td>\n",
              "    </tr>\n",
              "    <tr>\n",
              "      <th>2020-11-15</th>\n",
              "      <td>-0.533925</td>\n",
              "      <td>0.098488</td>\n",
              "      <td>0.087366</td>\n",
              "      <td>-0.435400</td>\n",
              "    </tr>\n",
              "    <tr>\n",
              "      <th>2020-11-16</th>\n",
              "      <td>-0.991257</td>\n",
              "      <td>-1.951541</td>\n",
              "      <td>0.019880</td>\n",
              "      <td>1.159219</td>\n",
              "    </tr>\n",
              "    <tr>\n",
              "      <th>2020-11-17</th>\n",
              "      <td>-1.155685</td>\n",
              "      <td>0.881180</td>\n",
              "      <td>-0.724877</td>\n",
              "      <td>-0.934983</td>\n",
              "    </tr>\n",
              "    <tr>\n",
              "      <th>2020-11-18</th>\n",
              "      <td>-0.481127</td>\n",
              "      <td>1.673436</td>\n",
              "      <td>-0.548039</td>\n",
              "      <td>-0.166635</td>\n",
              "    </tr>\n",
              "  </tbody>\n",
              "</table>\n",
              "</div>"
            ],
            "text/plain": [
              "                   A         B         C         D\n",
              "2020-11-13  0.311543 -0.256481  0.708617 -0.463063\n",
              "2020-11-14 -1.703557 -0.346187  0.552435 -0.866188\n",
              "2020-11-15 -0.533925  0.098488  0.087366 -0.435400\n",
              "2020-11-16 -0.991257 -1.951541  0.019880  1.159219\n",
              "2020-11-17 -1.155685  0.881180 -0.724877 -0.934983\n",
              "2020-11-18 -0.481127  1.673436 -0.548039 -0.166635"
            ]
          },
          "metadata": {
            "tags": []
          },
          "execution_count": 19
        }
      ]
    },
    {
      "cell_type": "code",
      "metadata": {
        "colab": {
          "base_uri": "https://localhost:8080/",
          "height": 172
        },
        "id": "y7MQ7eSvKlJM",
        "outputId": "2360ba2a-ebdd-4dc5-d0ba-19359e943965"
      },
      "source": [
        "df2 = pd.DataFrame(\n",
        "    {\n",
        "        'A': 1.,\n",
        "        'B': pd.Timestamp('20201113'),\n",
        "        'C': pd.Series(1, index=list(range(4)), dtype='float32'),\n",
        "        'D': np.array([3] * 4, dtype='int32'),\n",
        "        'E': pd.Categorical([\"test\", \"train\", \"test\", \"train\"]),\n",
        "        'F': 'foo'\n",
        "     }\n",
        ")\n",
        "df2"
      ],
      "execution_count": 26,
      "outputs": [
        {
          "output_type": "execute_result",
          "data": {
            "text/html": [
              "<div>\n",
              "<style scoped>\n",
              "    .dataframe tbody tr th:only-of-type {\n",
              "        vertical-align: middle;\n",
              "    }\n",
              "\n",
              "    .dataframe tbody tr th {\n",
              "        vertical-align: top;\n",
              "    }\n",
              "\n",
              "    .dataframe thead th {\n",
              "        text-align: right;\n",
              "    }\n",
              "</style>\n",
              "<table border=\"1\" class=\"dataframe\">\n",
              "  <thead>\n",
              "    <tr style=\"text-align: right;\">\n",
              "      <th></th>\n",
              "      <th>A</th>\n",
              "      <th>B</th>\n",
              "      <th>C</th>\n",
              "      <th>D</th>\n",
              "      <th>E</th>\n",
              "      <th>F</th>\n",
              "    </tr>\n",
              "  </thead>\n",
              "  <tbody>\n",
              "    <tr>\n",
              "      <th>0</th>\n",
              "      <td>1.0</td>\n",
              "      <td>2020-11-13</td>\n",
              "      <td>1.0</td>\n",
              "      <td>3</td>\n",
              "      <td>test</td>\n",
              "      <td>foo</td>\n",
              "    </tr>\n",
              "    <tr>\n",
              "      <th>1</th>\n",
              "      <td>1.0</td>\n",
              "      <td>2020-11-13</td>\n",
              "      <td>1.0</td>\n",
              "      <td>3</td>\n",
              "      <td>train</td>\n",
              "      <td>foo</td>\n",
              "    </tr>\n",
              "    <tr>\n",
              "      <th>2</th>\n",
              "      <td>1.0</td>\n",
              "      <td>2020-11-13</td>\n",
              "      <td>1.0</td>\n",
              "      <td>3</td>\n",
              "      <td>test</td>\n",
              "      <td>foo</td>\n",
              "    </tr>\n",
              "    <tr>\n",
              "      <th>3</th>\n",
              "      <td>1.0</td>\n",
              "      <td>2020-11-13</td>\n",
              "      <td>1.0</td>\n",
              "      <td>3</td>\n",
              "      <td>train</td>\n",
              "      <td>foo</td>\n",
              "    </tr>\n",
              "  </tbody>\n",
              "</table>\n",
              "</div>"
            ],
            "text/plain": [
              "     A          B    C  D      E    F\n",
              "0  1.0 2020-11-13  1.0  3   test  foo\n",
              "1  1.0 2020-11-13  1.0  3  train  foo\n",
              "2  1.0 2020-11-13  1.0  3   test  foo\n",
              "3  1.0 2020-11-13  1.0  3  train  foo"
            ]
          },
          "metadata": {
            "tags": []
          },
          "execution_count": 26
        }
      ]
    },
    {
      "cell_type": "code",
      "metadata": {
        "colab": {
          "base_uri": "https://localhost:8080/",
          "height": 203
        },
        "id": "umC8OhSpNaDG",
        "outputId": "f560230e-2d49-4e34-c187-e325bbeca7d4"
      },
      "source": [
        "dates = pd.date_range('20201113', periods=6)\n",
        "\n",
        "df = pd.DataFrame(np.random.randn(6,4), index=dates, columns=list('ABCD'))\n",
        "df.tail()"
      ],
      "execution_count": 27,
      "outputs": [
        {
          "output_type": "execute_result",
          "data": {
            "text/html": [
              "<div>\n",
              "<style scoped>\n",
              "    .dataframe tbody tr th:only-of-type {\n",
              "        vertical-align: middle;\n",
              "    }\n",
              "\n",
              "    .dataframe tbody tr th {\n",
              "        vertical-align: top;\n",
              "    }\n",
              "\n",
              "    .dataframe thead th {\n",
              "        text-align: right;\n",
              "    }\n",
              "</style>\n",
              "<table border=\"1\" class=\"dataframe\">\n",
              "  <thead>\n",
              "    <tr style=\"text-align: right;\">\n",
              "      <th></th>\n",
              "      <th>A</th>\n",
              "      <th>B</th>\n",
              "      <th>C</th>\n",
              "      <th>D</th>\n",
              "    </tr>\n",
              "  </thead>\n",
              "  <tbody>\n",
              "    <tr>\n",
              "      <th>2020-11-14</th>\n",
              "      <td>1.492912</td>\n",
              "      <td>0.117595</td>\n",
              "      <td>1.243705</td>\n",
              "      <td>0.357719</td>\n",
              "    </tr>\n",
              "    <tr>\n",
              "      <th>2020-11-15</th>\n",
              "      <td>0.639743</td>\n",
              "      <td>1.633565</td>\n",
              "      <td>-2.885098</td>\n",
              "      <td>-0.279271</td>\n",
              "    </tr>\n",
              "    <tr>\n",
              "      <th>2020-11-16</th>\n",
              "      <td>-0.715294</td>\n",
              "      <td>-0.964493</td>\n",
              "      <td>-0.408410</td>\n",
              "      <td>-0.316843</td>\n",
              "    </tr>\n",
              "    <tr>\n",
              "      <th>2020-11-17</th>\n",
              "      <td>-1.237679</td>\n",
              "      <td>1.743324</td>\n",
              "      <td>1.364367</td>\n",
              "      <td>-0.165396</td>\n",
              "    </tr>\n",
              "    <tr>\n",
              "      <th>2020-11-18</th>\n",
              "      <td>-2.787265</td>\n",
              "      <td>1.912860</td>\n",
              "      <td>0.683716</td>\n",
              "      <td>0.496742</td>\n",
              "    </tr>\n",
              "  </tbody>\n",
              "</table>\n",
              "</div>"
            ],
            "text/plain": [
              "                   A         B         C         D\n",
              "2020-11-14  1.492912  0.117595  1.243705  0.357719\n",
              "2020-11-15  0.639743  1.633565 -2.885098 -0.279271\n",
              "2020-11-16 -0.715294 -0.964493 -0.408410 -0.316843\n",
              "2020-11-17 -1.237679  1.743324  1.364367 -0.165396\n",
              "2020-11-18 -2.787265  1.912860  0.683716  0.496742"
            ]
          },
          "metadata": {
            "tags": []
          },
          "execution_count": 27
        }
      ]
    },
    {
      "cell_type": "code",
      "metadata": {
        "colab": {
          "base_uri": "https://localhost:8080/",
          "height": 203
        },
        "id": "Wf0ckvaoNpNF",
        "outputId": "d09e3c95-6f3a-4869-ecb6-1f2dd7ba1143"
      },
      "source": [
        "dates = pd.date_range('20201113', periods=6)\n",
        "\n",
        "df = pd.DataFrame(np.random.randn(6,4), index=dates, columns=list('ABCD')) \n",
        "df.head()"
      ],
      "execution_count": 28,
      "outputs": [
        {
          "output_type": "execute_result",
          "data": {
            "text/html": [
              "<div>\n",
              "<style scoped>\n",
              "    .dataframe tbody tr th:only-of-type {\n",
              "        vertical-align: middle;\n",
              "    }\n",
              "\n",
              "    .dataframe tbody tr th {\n",
              "        vertical-align: top;\n",
              "    }\n",
              "\n",
              "    .dataframe thead th {\n",
              "        text-align: right;\n",
              "    }\n",
              "</style>\n",
              "<table border=\"1\" class=\"dataframe\">\n",
              "  <thead>\n",
              "    <tr style=\"text-align: right;\">\n",
              "      <th></th>\n",
              "      <th>A</th>\n",
              "      <th>B</th>\n",
              "      <th>C</th>\n",
              "      <th>D</th>\n",
              "    </tr>\n",
              "  </thead>\n",
              "  <tbody>\n",
              "    <tr>\n",
              "      <th>2020-11-13</th>\n",
              "      <td>3.025722</td>\n",
              "      <td>0.502345</td>\n",
              "      <td>-0.926418</td>\n",
              "      <td>-0.264513</td>\n",
              "    </tr>\n",
              "    <tr>\n",
              "      <th>2020-11-14</th>\n",
              "      <td>0.705140</td>\n",
              "      <td>-1.814447</td>\n",
              "      <td>-0.483945</td>\n",
              "      <td>-1.419307</td>\n",
              "    </tr>\n",
              "    <tr>\n",
              "      <th>2020-11-15</th>\n",
              "      <td>1.936954</td>\n",
              "      <td>0.730044</td>\n",
              "      <td>-1.484081</td>\n",
              "      <td>0.340886</td>\n",
              "    </tr>\n",
              "    <tr>\n",
              "      <th>2020-11-16</th>\n",
              "      <td>-2.121010</td>\n",
              "      <td>3.151588</td>\n",
              "      <td>-1.639236</td>\n",
              "      <td>0.545180</td>\n",
              "    </tr>\n",
              "    <tr>\n",
              "      <th>2020-11-17</th>\n",
              "      <td>-1.813663</td>\n",
              "      <td>0.036842</td>\n",
              "      <td>0.825437</td>\n",
              "      <td>-0.947362</td>\n",
              "    </tr>\n",
              "  </tbody>\n",
              "</table>\n",
              "</div>"
            ],
            "text/plain": [
              "                   A         B         C         D\n",
              "2020-11-13  3.025722  0.502345 -0.926418 -0.264513\n",
              "2020-11-14  0.705140 -1.814447 -0.483945 -1.419307\n",
              "2020-11-15  1.936954  0.730044 -1.484081  0.340886\n",
              "2020-11-16 -2.121010  3.151588 -1.639236  0.545180\n",
              "2020-11-17 -1.813663  0.036842  0.825437 -0.947362"
            ]
          },
          "metadata": {
            "tags": []
          },
          "execution_count": 28
        }
      ]
    },
    {
      "cell_type": "code",
      "metadata": {
        "colab": {
          "base_uri": "https://localhost:8080/",
          "height": 1000
        },
        "id": "cKh_5ST3Ntsl",
        "outputId": "45712766-5bf5-42a8-f7fd-e9dec5c88692"
      },
      "source": [
        "dates = pd.date_range('20201113', periods=6)\n",
        "\n",
        "df = pd.DataFrame(np.random.randn(6,4), index=dates, columns=list('ABCD')) \n",
        "print(df.index) # 인덱스 보기\n",
        "print(df.columns) # 열(항목) 보기\n",
        "print()\n",
        "print(df.values) # 값 보기\n",
        "print()\n",
        "print(df.describe()) # 데이터의 대략적인 통계적 정보 요약\n",
        "print()\n",
        "print(df)\n",
        "print()\n",
        "print(df.T) # 데이터를 전치\n",
        "print()\n",
        "print(df.sort_index(axis=1, ascending=True)) # 축 별로 정렬 : False(오름차순), True(내림차순)-default\n",
        "print(df.sort_index(axis=1, ascending=False))\n",
        "print()\n",
        "print(df.sort_values(by='B')) # 값 별로 정렬\n",
        "df.sort_values(by='B')"
      ],
      "execution_count": 29,
      "outputs": [
        {
          "output_type": "stream",
          "text": [
            "DatetimeIndex(['2020-11-13', '2020-11-14', '2020-11-15', '2020-11-16',\n",
            "               '2020-11-17', '2020-11-18'],\n",
            "              dtype='datetime64[ns]', freq='D')\n",
            "Index(['A', 'B', 'C', 'D'], dtype='object')\n",
            "\n",
            "[[ 1.97075507  0.92241994 -0.07373515  0.64553809]\n",
            " [ 2.02676544 -0.25735077  0.81334104 -0.47103859]\n",
            " [ 1.79805071 -0.46575331 -3.18051119  0.67566836]\n",
            " [-2.71340481 -1.41041808 -0.9096566   1.13272187]\n",
            " [ 2.43293983  0.76338213  0.56962148  2.33220346]\n",
            " [ 0.50858283  1.16266011  0.62957005 -1.28550594]]\n",
            "\n",
            "              A         B         C         D\n",
            "count  6.000000  6.000000  6.000000  6.000000\n",
            "mean   1.003948  0.119157 -0.358562  0.504931\n",
            "std    1.934817  0.997260  1.520494  1.260171\n",
            "min   -2.713405 -1.410418 -3.180511 -1.285506\n",
            "25%    0.830950 -0.413653 -0.700676 -0.191894\n",
            "50%    1.884403  0.253016  0.247943  0.660603\n",
            "75%    2.012763  0.882660  0.614583  1.018458\n",
            "max    2.432940  1.162660  0.813341  2.332203\n",
            "\n",
            "                   A         B         C         D\n",
            "2020-11-13  1.970755  0.922420 -0.073735  0.645538\n",
            "2020-11-14  2.026765 -0.257351  0.813341 -0.471039\n",
            "2020-11-15  1.798051 -0.465753 -3.180511  0.675668\n",
            "2020-11-16 -2.713405 -1.410418 -0.909657  1.132722\n",
            "2020-11-17  2.432940  0.763382  0.569621  2.332203\n",
            "2020-11-18  0.508583  1.162660  0.629570 -1.285506\n",
            "\n",
            "   2020-11-13  2020-11-14  2020-11-15  2020-11-16  2020-11-17  2020-11-18\n",
            "A    1.970755    2.026765    1.798051   -2.713405    2.432940    0.508583\n",
            "B    0.922420   -0.257351   -0.465753   -1.410418    0.763382    1.162660\n",
            "C   -0.073735    0.813341   -3.180511   -0.909657    0.569621    0.629570\n",
            "D    0.645538   -0.471039    0.675668    1.132722    2.332203   -1.285506\n",
            "\n",
            "                   A         B         C         D\n",
            "2020-11-13  1.970755  0.922420 -0.073735  0.645538\n",
            "2020-11-14  2.026765 -0.257351  0.813341 -0.471039\n",
            "2020-11-15  1.798051 -0.465753 -3.180511  0.675668\n",
            "2020-11-16 -2.713405 -1.410418 -0.909657  1.132722\n",
            "2020-11-17  2.432940  0.763382  0.569621  2.332203\n",
            "2020-11-18  0.508583  1.162660  0.629570 -1.285506\n",
            "                   D         C         B         A\n",
            "2020-11-13  0.645538 -0.073735  0.922420  1.970755\n",
            "2020-11-14 -0.471039  0.813341 -0.257351  2.026765\n",
            "2020-11-15  0.675668 -3.180511 -0.465753  1.798051\n",
            "2020-11-16  1.132722 -0.909657 -1.410418 -2.713405\n",
            "2020-11-17  2.332203  0.569621  0.763382  2.432940\n",
            "2020-11-18 -1.285506  0.629570  1.162660  0.508583\n",
            "\n",
            "                   A         B         C         D\n",
            "2020-11-16 -2.713405 -1.410418 -0.909657  1.132722\n",
            "2020-11-15  1.798051 -0.465753 -3.180511  0.675668\n",
            "2020-11-14  2.026765 -0.257351  0.813341 -0.471039\n",
            "2020-11-17  2.432940  0.763382  0.569621  2.332203\n",
            "2020-11-13  1.970755  0.922420 -0.073735  0.645538\n",
            "2020-11-18  0.508583  1.162660  0.629570 -1.285506\n"
          ],
          "name": "stdout"
        },
        {
          "output_type": "execute_result",
          "data": {
            "text/html": [
              "<div>\n",
              "<style scoped>\n",
              "    .dataframe tbody tr th:only-of-type {\n",
              "        vertical-align: middle;\n",
              "    }\n",
              "\n",
              "    .dataframe tbody tr th {\n",
              "        vertical-align: top;\n",
              "    }\n",
              "\n",
              "    .dataframe thead th {\n",
              "        text-align: right;\n",
              "    }\n",
              "</style>\n",
              "<table border=\"1\" class=\"dataframe\">\n",
              "  <thead>\n",
              "    <tr style=\"text-align: right;\">\n",
              "      <th></th>\n",
              "      <th>A</th>\n",
              "      <th>B</th>\n",
              "      <th>C</th>\n",
              "      <th>D</th>\n",
              "    </tr>\n",
              "  </thead>\n",
              "  <tbody>\n",
              "    <tr>\n",
              "      <th>2020-11-16</th>\n",
              "      <td>-2.713405</td>\n",
              "      <td>-1.410418</td>\n",
              "      <td>-0.909657</td>\n",
              "      <td>1.132722</td>\n",
              "    </tr>\n",
              "    <tr>\n",
              "      <th>2020-11-15</th>\n",
              "      <td>1.798051</td>\n",
              "      <td>-0.465753</td>\n",
              "      <td>-3.180511</td>\n",
              "      <td>0.675668</td>\n",
              "    </tr>\n",
              "    <tr>\n",
              "      <th>2020-11-14</th>\n",
              "      <td>2.026765</td>\n",
              "      <td>-0.257351</td>\n",
              "      <td>0.813341</td>\n",
              "      <td>-0.471039</td>\n",
              "    </tr>\n",
              "    <tr>\n",
              "      <th>2020-11-17</th>\n",
              "      <td>2.432940</td>\n",
              "      <td>0.763382</td>\n",
              "      <td>0.569621</td>\n",
              "      <td>2.332203</td>\n",
              "    </tr>\n",
              "    <tr>\n",
              "      <th>2020-11-13</th>\n",
              "      <td>1.970755</td>\n",
              "      <td>0.922420</td>\n",
              "      <td>-0.073735</td>\n",
              "      <td>0.645538</td>\n",
              "    </tr>\n",
              "    <tr>\n",
              "      <th>2020-11-18</th>\n",
              "      <td>0.508583</td>\n",
              "      <td>1.162660</td>\n",
              "      <td>0.629570</td>\n",
              "      <td>-1.285506</td>\n",
              "    </tr>\n",
              "  </tbody>\n",
              "</table>\n",
              "</div>"
            ],
            "text/plain": [
              "                   A         B         C         D\n",
              "2020-11-16 -2.713405 -1.410418 -0.909657  1.132722\n",
              "2020-11-15  1.798051 -0.465753 -3.180511  0.675668\n",
              "2020-11-14  2.026765 -0.257351  0.813341 -0.471039\n",
              "2020-11-17  2.432940  0.763382  0.569621  2.332203\n",
              "2020-11-13  1.970755  0.922420 -0.073735  0.645538\n",
              "2020-11-18  0.508583  1.162660  0.629570 -1.285506"
            ]
          },
          "metadata": {
            "tags": []
          },
          "execution_count": 29
        }
      ]
    },
    {
      "cell_type": "code",
      "metadata": {
        "colab": {
          "base_uri": "https://localhost:8080/"
        },
        "id": "ENfg4iHsUksY",
        "outputId": "32c51954-18cf-4208-dfba-dddf648298fe"
      },
      "source": [
        "dates = pd.date_range('20201113', periods=6)\n",
        "\n",
        "df = pd.DataFrame(np.random.randn(6,4), index=dates, columns=list('ABCD')) \n",
        "\n",
        "print(df);print()\n",
        "print(df['A']);print() # df.A와 동일한 Series를 생성하는 단일 열을 선택\n",
        "print(df[0:3]);print() # 행을 분할하는 []를 통해 선택\n",
        "print(df['20201114':'20201116']) "
      ],
      "execution_count": 30,
      "outputs": [
        {
          "output_type": "stream",
          "text": [
            "                   A         B         C         D\n",
            "2020-11-13  1.061551 -0.113055  1.320218 -0.202748\n",
            "2020-11-14  1.436311  0.258815  0.277523  1.083373\n",
            "2020-11-15 -0.288776  1.180680  0.066432 -0.567334\n",
            "2020-11-16  1.065021 -0.990755 -0.501533 -0.986891\n",
            "2020-11-17  0.239762  0.018961  1.500827  0.811404\n",
            "2020-11-18 -2.068121  0.027264 -0.301294 -0.354948\n",
            "\n",
            "2020-11-13    1.061551\n",
            "2020-11-14    1.436311\n",
            "2020-11-15   -0.288776\n",
            "2020-11-16    1.065021\n",
            "2020-11-17    0.239762\n",
            "2020-11-18   -2.068121\n",
            "Freq: D, Name: A, dtype: float64\n",
            "\n",
            "                   A         B         C         D\n",
            "2020-11-13  1.061551 -0.113055  1.320218 -0.202748\n",
            "2020-11-14  1.436311  0.258815  0.277523  1.083373\n",
            "2020-11-15 -0.288776  1.180680  0.066432 -0.567334\n",
            "\n",
            "                   A         B         C         D\n",
            "2020-11-14  1.436311  0.258815  0.277523  1.083373\n",
            "2020-11-15 -0.288776  1.180680  0.066432 -0.567334\n",
            "2020-11-16  1.065021 -0.990755 -0.501533 -0.986891\n"
          ],
          "name": "stdout"
        }
      ]
    },
    {
      "cell_type": "code",
      "metadata": {
        "colab": {
          "base_uri": "https://localhost:8080/",
          "height": 234
        },
        "id": "exT1g-ogUvDV",
        "outputId": "85d9cc8f-7cb9-40f4-fd1a-2d91bb37e3ea"
      },
      "source": [
        "df"
      ],
      "execution_count": 31,
      "outputs": [
        {
          "output_type": "execute_result",
          "data": {
            "text/html": [
              "<div>\n",
              "<style scoped>\n",
              "    .dataframe tbody tr th:only-of-type {\n",
              "        vertical-align: middle;\n",
              "    }\n",
              "\n",
              "    .dataframe tbody tr th {\n",
              "        vertical-align: top;\n",
              "    }\n",
              "\n",
              "    .dataframe thead th {\n",
              "        text-align: right;\n",
              "    }\n",
              "</style>\n",
              "<table border=\"1\" class=\"dataframe\">\n",
              "  <thead>\n",
              "    <tr style=\"text-align: right;\">\n",
              "      <th></th>\n",
              "      <th>A</th>\n",
              "      <th>B</th>\n",
              "      <th>C</th>\n",
              "      <th>D</th>\n",
              "    </tr>\n",
              "  </thead>\n",
              "  <tbody>\n",
              "    <tr>\n",
              "      <th>2020-11-13</th>\n",
              "      <td>1.061551</td>\n",
              "      <td>-0.113055</td>\n",
              "      <td>1.320218</td>\n",
              "      <td>-0.202748</td>\n",
              "    </tr>\n",
              "    <tr>\n",
              "      <th>2020-11-14</th>\n",
              "      <td>1.436311</td>\n",
              "      <td>0.258815</td>\n",
              "      <td>0.277523</td>\n",
              "      <td>1.083373</td>\n",
              "    </tr>\n",
              "    <tr>\n",
              "      <th>2020-11-15</th>\n",
              "      <td>-0.288776</td>\n",
              "      <td>1.180680</td>\n",
              "      <td>0.066432</td>\n",
              "      <td>-0.567334</td>\n",
              "    </tr>\n",
              "    <tr>\n",
              "      <th>2020-11-16</th>\n",
              "      <td>1.065021</td>\n",
              "      <td>-0.990755</td>\n",
              "      <td>-0.501533</td>\n",
              "      <td>-0.986891</td>\n",
              "    </tr>\n",
              "    <tr>\n",
              "      <th>2020-11-17</th>\n",
              "      <td>0.239762</td>\n",
              "      <td>0.018961</td>\n",
              "      <td>1.500827</td>\n",
              "      <td>0.811404</td>\n",
              "    </tr>\n",
              "    <tr>\n",
              "      <th>2020-11-18</th>\n",
              "      <td>-2.068121</td>\n",
              "      <td>0.027264</td>\n",
              "      <td>-0.301294</td>\n",
              "      <td>-0.354948</td>\n",
              "    </tr>\n",
              "  </tbody>\n",
              "</table>\n",
              "</div>"
            ],
            "text/plain": [
              "                   A         B         C         D\n",
              "2020-11-13  1.061551 -0.113055  1.320218 -0.202748\n",
              "2020-11-14  1.436311  0.258815  0.277523  1.083373\n",
              "2020-11-15 -0.288776  1.180680  0.066432 -0.567334\n",
              "2020-11-16  1.065021 -0.990755 -0.501533 -0.986891\n",
              "2020-11-17  0.239762  0.018961  1.500827  0.811404\n",
              "2020-11-18 -2.068121  0.027264 -0.301294 -0.354948"
            ]
          },
          "metadata": {
            "tags": []
          },
          "execution_count": 31
        }
      ]
    },
    {
      "cell_type": "code",
      "metadata": {
        "colab": {
          "base_uri": "https://localhost:8080/",
          "height": 141
        },
        "id": "f-fR0s6kWfiV",
        "outputId": "4f178bcf-312c-44d7-b782-d17d55743168"
      },
      "source": [
        "df.loc['20201113':'20201115', ['A']]"
      ],
      "execution_count": 32,
      "outputs": [
        {
          "output_type": "execute_result",
          "data": {
            "text/html": [
              "<div>\n",
              "<style scoped>\n",
              "    .dataframe tbody tr th:only-of-type {\n",
              "        vertical-align: middle;\n",
              "    }\n",
              "\n",
              "    .dataframe tbody tr th {\n",
              "        vertical-align: top;\n",
              "    }\n",
              "\n",
              "    .dataframe thead th {\n",
              "        text-align: right;\n",
              "    }\n",
              "</style>\n",
              "<table border=\"1\" class=\"dataframe\">\n",
              "  <thead>\n",
              "    <tr style=\"text-align: right;\">\n",
              "      <th></th>\n",
              "      <th>A</th>\n",
              "    </tr>\n",
              "  </thead>\n",
              "  <tbody>\n",
              "    <tr>\n",
              "      <th>2020-11-13</th>\n",
              "      <td>1.061551</td>\n",
              "    </tr>\n",
              "    <tr>\n",
              "      <th>2020-11-14</th>\n",
              "      <td>1.436311</td>\n",
              "    </tr>\n",
              "    <tr>\n",
              "      <th>2020-11-15</th>\n",
              "      <td>-0.288776</td>\n",
              "    </tr>\n",
              "  </tbody>\n",
              "</table>\n",
              "</div>"
            ],
            "text/plain": [
              "                   A\n",
              "2020-11-13  1.061551\n",
              "2020-11-14  1.436311\n",
              "2020-11-15 -0.288776"
            ]
          },
          "metadata": {
            "tags": []
          },
          "execution_count": 32
        }
      ]
    },
    {
      "cell_type": "code",
      "metadata": {
        "colab": {
          "base_uri": "https://localhost:8080/",
          "height": 172
        },
        "id": "Ksd00S6iWqCk",
        "outputId": "e4526c86-eb26-4219-89e9-de0d54eaa2ab"
      },
      "source": [
        "df[df.A > 0]"
      ],
      "execution_count": 34,
      "outputs": [
        {
          "output_type": "execute_result",
          "data": {
            "text/html": [
              "<div>\n",
              "<style scoped>\n",
              "    .dataframe tbody tr th:only-of-type {\n",
              "        vertical-align: middle;\n",
              "    }\n",
              "\n",
              "    .dataframe tbody tr th {\n",
              "        vertical-align: top;\n",
              "    }\n",
              "\n",
              "    .dataframe thead th {\n",
              "        text-align: right;\n",
              "    }\n",
              "</style>\n",
              "<table border=\"1\" class=\"dataframe\">\n",
              "  <thead>\n",
              "    <tr style=\"text-align: right;\">\n",
              "      <th></th>\n",
              "      <th>A</th>\n",
              "      <th>B</th>\n",
              "      <th>C</th>\n",
              "      <th>D</th>\n",
              "    </tr>\n",
              "  </thead>\n",
              "  <tbody>\n",
              "    <tr>\n",
              "      <th>2020-11-13</th>\n",
              "      <td>1.061551</td>\n",
              "      <td>-0.113055</td>\n",
              "      <td>1.320218</td>\n",
              "      <td>-0.202748</td>\n",
              "    </tr>\n",
              "    <tr>\n",
              "      <th>2020-11-14</th>\n",
              "      <td>1.436311</td>\n",
              "      <td>0.258815</td>\n",
              "      <td>0.277523</td>\n",
              "      <td>1.083373</td>\n",
              "    </tr>\n",
              "    <tr>\n",
              "      <th>2020-11-16</th>\n",
              "      <td>1.065021</td>\n",
              "      <td>-0.990755</td>\n",
              "      <td>-0.501533</td>\n",
              "      <td>-0.986891</td>\n",
              "    </tr>\n",
              "    <tr>\n",
              "      <th>2020-11-17</th>\n",
              "      <td>0.239762</td>\n",
              "      <td>0.018961</td>\n",
              "      <td>1.500827</td>\n",
              "      <td>0.811404</td>\n",
              "    </tr>\n",
              "  </tbody>\n",
              "</table>\n",
              "</div>"
            ],
            "text/plain": [
              "                   A         B         C         D\n",
              "2020-11-13  1.061551 -0.113055  1.320218 -0.202748\n",
              "2020-11-14  1.436311  0.258815  0.277523  1.083373\n",
              "2020-11-16  1.065021 -0.990755 -0.501533 -0.986891\n",
              "2020-11-17  0.239762  0.018961  1.500827  0.811404"
            ]
          },
          "metadata": {
            "tags": []
          },
          "execution_count": 34
        }
      ]
    },
    {
      "cell_type": "code",
      "metadata": {
        "colab": {
          "base_uri": "https://localhost:8080/",
          "height": 234
        },
        "id": "e44yGA_oZLf1",
        "outputId": "774cb3b8-7776-478f-f5ac-2164d85ebca7"
      },
      "source": [
        "df[df > 0]"
      ],
      "execution_count": 35,
      "outputs": [
        {
          "output_type": "execute_result",
          "data": {
            "text/html": [
              "<div>\n",
              "<style scoped>\n",
              "    .dataframe tbody tr th:only-of-type {\n",
              "        vertical-align: middle;\n",
              "    }\n",
              "\n",
              "    .dataframe tbody tr th {\n",
              "        vertical-align: top;\n",
              "    }\n",
              "\n",
              "    .dataframe thead th {\n",
              "        text-align: right;\n",
              "    }\n",
              "</style>\n",
              "<table border=\"1\" class=\"dataframe\">\n",
              "  <thead>\n",
              "    <tr style=\"text-align: right;\">\n",
              "      <th></th>\n",
              "      <th>A</th>\n",
              "      <th>B</th>\n",
              "      <th>C</th>\n",
              "      <th>D</th>\n",
              "    </tr>\n",
              "  </thead>\n",
              "  <tbody>\n",
              "    <tr>\n",
              "      <th>2020-11-13</th>\n",
              "      <td>1.061551</td>\n",
              "      <td>NaN</td>\n",
              "      <td>1.320218</td>\n",
              "      <td>NaN</td>\n",
              "    </tr>\n",
              "    <tr>\n",
              "      <th>2020-11-14</th>\n",
              "      <td>1.436311</td>\n",
              "      <td>0.258815</td>\n",
              "      <td>0.277523</td>\n",
              "      <td>1.083373</td>\n",
              "    </tr>\n",
              "    <tr>\n",
              "      <th>2020-11-15</th>\n",
              "      <td>NaN</td>\n",
              "      <td>1.180680</td>\n",
              "      <td>0.066432</td>\n",
              "      <td>NaN</td>\n",
              "    </tr>\n",
              "    <tr>\n",
              "      <th>2020-11-16</th>\n",
              "      <td>1.065021</td>\n",
              "      <td>NaN</td>\n",
              "      <td>NaN</td>\n",
              "      <td>NaN</td>\n",
              "    </tr>\n",
              "    <tr>\n",
              "      <th>2020-11-17</th>\n",
              "      <td>0.239762</td>\n",
              "      <td>0.018961</td>\n",
              "      <td>1.500827</td>\n",
              "      <td>0.811404</td>\n",
              "    </tr>\n",
              "    <tr>\n",
              "      <th>2020-11-18</th>\n",
              "      <td>NaN</td>\n",
              "      <td>0.027264</td>\n",
              "      <td>NaN</td>\n",
              "      <td>NaN</td>\n",
              "    </tr>\n",
              "  </tbody>\n",
              "</table>\n",
              "</div>"
            ],
            "text/plain": [
              "                   A         B         C         D\n",
              "2020-11-13  1.061551       NaN  1.320218       NaN\n",
              "2020-11-14  1.436311  0.258815  0.277523  1.083373\n",
              "2020-11-15       NaN  1.180680  0.066432       NaN\n",
              "2020-11-16  1.065021       NaN       NaN       NaN\n",
              "2020-11-17  0.239762  0.018961  1.500827  0.811404\n",
              "2020-11-18       NaN  0.027264       NaN       NaN"
            ]
          },
          "metadata": {
            "tags": []
          },
          "execution_count": 35
        }
      ]
    },
    {
      "cell_type": "code",
      "metadata": {
        "id": "9Lj1YK4KZQvl"
      },
      "source": [
        "df2 = df.copy()"
      ],
      "execution_count": 36,
      "outputs": []
    },
    {
      "cell_type": "code",
      "metadata": {
        "id": "0ubQaFtyZSg1"
      },
      "source": [
        "df2 = df"
      ],
      "execution_count": 38,
      "outputs": []
    },
    {
      "cell_type": "code",
      "metadata": {
        "colab": {
          "base_uri": "https://localhost:8080/",
          "height": 234
        },
        "id": "yUtKc582ZXcl",
        "outputId": "1470466e-956d-4eb6-c8ae-d7e480b2f8a5"
      },
      "source": [
        "df2['E'] = ['one', 'one', 'two', 'three', 'four', 'three']\n",
        "df"
      ],
      "execution_count": 41,
      "outputs": [
        {
          "output_type": "execute_result",
          "data": {
            "text/html": [
              "<div>\n",
              "<style scoped>\n",
              "    .dataframe tbody tr th:only-of-type {\n",
              "        vertical-align: middle;\n",
              "    }\n",
              "\n",
              "    .dataframe tbody tr th {\n",
              "        vertical-align: top;\n",
              "    }\n",
              "\n",
              "    .dataframe thead th {\n",
              "        text-align: right;\n",
              "    }\n",
              "</style>\n",
              "<table border=\"1\" class=\"dataframe\">\n",
              "  <thead>\n",
              "    <tr style=\"text-align: right;\">\n",
              "      <th></th>\n",
              "      <th>A</th>\n",
              "      <th>B</th>\n",
              "      <th>C</th>\n",
              "      <th>D</th>\n",
              "      <th>E</th>\n",
              "    </tr>\n",
              "  </thead>\n",
              "  <tbody>\n",
              "    <tr>\n",
              "      <th>2020-11-13</th>\n",
              "      <td>1.061551</td>\n",
              "      <td>-0.113055</td>\n",
              "      <td>1.320218</td>\n",
              "      <td>-0.202748</td>\n",
              "      <td>one</td>\n",
              "    </tr>\n",
              "    <tr>\n",
              "      <th>2020-11-14</th>\n",
              "      <td>1.436311</td>\n",
              "      <td>0.258815</td>\n",
              "      <td>0.277523</td>\n",
              "      <td>1.083373</td>\n",
              "      <td>one</td>\n",
              "    </tr>\n",
              "    <tr>\n",
              "      <th>2020-11-15</th>\n",
              "      <td>-0.288776</td>\n",
              "      <td>1.180680</td>\n",
              "      <td>0.066432</td>\n",
              "      <td>-0.567334</td>\n",
              "      <td>two</td>\n",
              "    </tr>\n",
              "    <tr>\n",
              "      <th>2020-11-16</th>\n",
              "      <td>1.065021</td>\n",
              "      <td>-0.990755</td>\n",
              "      <td>-0.501533</td>\n",
              "      <td>-0.986891</td>\n",
              "      <td>three</td>\n",
              "    </tr>\n",
              "    <tr>\n",
              "      <th>2020-11-17</th>\n",
              "      <td>0.239762</td>\n",
              "      <td>0.018961</td>\n",
              "      <td>1.500827</td>\n",
              "      <td>0.811404</td>\n",
              "      <td>four</td>\n",
              "    </tr>\n",
              "    <tr>\n",
              "      <th>2020-11-18</th>\n",
              "      <td>-2.068121</td>\n",
              "      <td>0.027264</td>\n",
              "      <td>-0.301294</td>\n",
              "      <td>-0.354948</td>\n",
              "      <td>three</td>\n",
              "    </tr>\n",
              "  </tbody>\n",
              "</table>\n",
              "</div>"
            ],
            "text/plain": [
              "                   A         B         C         D      E\n",
              "2020-11-13  1.061551 -0.113055  1.320218 -0.202748    one\n",
              "2020-11-14  1.436311  0.258815  0.277523  1.083373    one\n",
              "2020-11-15 -0.288776  1.180680  0.066432 -0.567334    two\n",
              "2020-11-16  1.065021 -0.990755 -0.501533 -0.986891  three\n",
              "2020-11-17  0.239762  0.018961  1.500827  0.811404   four\n",
              "2020-11-18 -2.068121  0.027264 -0.301294 -0.354948  three"
            ]
          },
          "metadata": {
            "tags": []
          },
          "execution_count": 41
        }
      ]
    },
    {
      "cell_type": "code",
      "metadata": {
        "colab": {
          "base_uri": "https://localhost:8080/",
          "height": 110
        },
        "id": "crnqR85hZ6NF",
        "outputId": "8fdbcd48-28af-4c25-92e3-2d0ad554de21"
      },
      "source": [
        "df2[df2['E'].isin(['two','four'])]"
      ],
      "execution_count": 42,
      "outputs": [
        {
          "output_type": "execute_result",
          "data": {
            "text/html": [
              "<div>\n",
              "<style scoped>\n",
              "    .dataframe tbody tr th:only-of-type {\n",
              "        vertical-align: middle;\n",
              "    }\n",
              "\n",
              "    .dataframe tbody tr th {\n",
              "        vertical-align: top;\n",
              "    }\n",
              "\n",
              "    .dataframe thead th {\n",
              "        text-align: right;\n",
              "    }\n",
              "</style>\n",
              "<table border=\"1\" class=\"dataframe\">\n",
              "  <thead>\n",
              "    <tr style=\"text-align: right;\">\n",
              "      <th></th>\n",
              "      <th>A</th>\n",
              "      <th>B</th>\n",
              "      <th>C</th>\n",
              "      <th>D</th>\n",
              "      <th>E</th>\n",
              "    </tr>\n",
              "  </thead>\n",
              "  <tbody>\n",
              "    <tr>\n",
              "      <th>2020-11-15</th>\n",
              "      <td>-0.288776</td>\n",
              "      <td>1.180680</td>\n",
              "      <td>0.066432</td>\n",
              "      <td>-0.567334</td>\n",
              "      <td>two</td>\n",
              "    </tr>\n",
              "    <tr>\n",
              "      <th>2020-11-17</th>\n",
              "      <td>0.239762</td>\n",
              "      <td>0.018961</td>\n",
              "      <td>1.500827</td>\n",
              "      <td>0.811404</td>\n",
              "      <td>four</td>\n",
              "    </tr>\n",
              "  </tbody>\n",
              "</table>\n",
              "</div>"
            ],
            "text/plain": [
              "                   A         B         C         D     E\n",
              "2020-11-15 -0.288776  1.180680  0.066432 -0.567334   two\n",
              "2020-11-17  0.239762  0.018961  1.500827  0.811404  four"
            ]
          },
          "metadata": {
            "tags": []
          },
          "execution_count": 42
        }
      ]
    },
    {
      "cell_type": "code",
      "metadata": {
        "colab": {
          "base_uri": "https://localhost:8080/",
          "height": 234
        },
        "id": "tanby4-QaDz1",
        "outputId": "a52f97d2-e2fb-4a6c-afb8-af6ccca50c69"
      },
      "source": [
        "dates = pd.date_range('20201113', periods=6)\n",
        "df"
      ],
      "execution_count": 45,
      "outputs": [
        {
          "output_type": "execute_result",
          "data": {
            "text/html": [
              "<div>\n",
              "<style scoped>\n",
              "    .dataframe tbody tr th:only-of-type {\n",
              "        vertical-align: middle;\n",
              "    }\n",
              "\n",
              "    .dataframe tbody tr th {\n",
              "        vertical-align: top;\n",
              "    }\n",
              "\n",
              "    .dataframe thead th {\n",
              "        text-align: right;\n",
              "    }\n",
              "</style>\n",
              "<table border=\"1\" class=\"dataframe\">\n",
              "  <thead>\n",
              "    <tr style=\"text-align: right;\">\n",
              "      <th></th>\n",
              "      <th>A</th>\n",
              "      <th>B</th>\n",
              "      <th>C</th>\n",
              "      <th>D</th>\n",
              "      <th>E</th>\n",
              "    </tr>\n",
              "  </thead>\n",
              "  <tbody>\n",
              "    <tr>\n",
              "      <th>2020-11-13</th>\n",
              "      <td>1.061551</td>\n",
              "      <td>-0.113055</td>\n",
              "      <td>1.320218</td>\n",
              "      <td>-0.202748</td>\n",
              "      <td>one</td>\n",
              "    </tr>\n",
              "    <tr>\n",
              "      <th>2020-11-14</th>\n",
              "      <td>1.436311</td>\n",
              "      <td>0.258815</td>\n",
              "      <td>0.277523</td>\n",
              "      <td>1.083373</td>\n",
              "      <td>one</td>\n",
              "    </tr>\n",
              "    <tr>\n",
              "      <th>2020-11-15</th>\n",
              "      <td>-0.288776</td>\n",
              "      <td>1.180680</td>\n",
              "      <td>0.066432</td>\n",
              "      <td>-0.567334</td>\n",
              "      <td>two</td>\n",
              "    </tr>\n",
              "    <tr>\n",
              "      <th>2020-11-16</th>\n",
              "      <td>1.065021</td>\n",
              "      <td>-0.990755</td>\n",
              "      <td>-0.501533</td>\n",
              "      <td>-0.986891</td>\n",
              "      <td>three</td>\n",
              "    </tr>\n",
              "    <tr>\n",
              "      <th>2020-11-17</th>\n",
              "      <td>0.239762</td>\n",
              "      <td>0.018961</td>\n",
              "      <td>1.500827</td>\n",
              "      <td>0.811404</td>\n",
              "      <td>four</td>\n",
              "    </tr>\n",
              "    <tr>\n",
              "      <th>2020-11-18</th>\n",
              "      <td>-2.068121</td>\n",
              "      <td>0.027264</td>\n",
              "      <td>-0.301294</td>\n",
              "      <td>-0.354948</td>\n",
              "      <td>three</td>\n",
              "    </tr>\n",
              "  </tbody>\n",
              "</table>\n",
              "</div>"
            ],
            "text/plain": [
              "                   A         B         C         D      E\n",
              "2020-11-13  1.061551 -0.113055  1.320218 -0.202748    one\n",
              "2020-11-14  1.436311  0.258815  0.277523  1.083373    one\n",
              "2020-11-15 -0.288776  1.180680  0.066432 -0.567334    two\n",
              "2020-11-16  1.065021 -0.990755 -0.501533 -0.986891  three\n",
              "2020-11-17  0.239762  0.018961  1.500827  0.811404   four\n",
              "2020-11-18 -2.068121  0.027264 -0.301294 -0.354948  three"
            ]
          },
          "metadata": {
            "tags": []
          },
          "execution_count": 45
        }
      ]
    },
    {
      "cell_type": "code",
      "metadata": {
        "id": "YG3_sNIpbM4l"
      },
      "source": [
        "df2 = df"
      ],
      "execution_count": 46,
      "outputs": []
    },
    {
      "cell_type": "code",
      "metadata": {
        "id": "NfHLqNiMbWSF"
      },
      "source": [
        "df = pd.DataFrame(np.random.randn(6,4), index=dates, columns=list('ABCD'))\n"
      ],
      "execution_count": 52,
      "outputs": []
    },
    {
      "cell_type": "code",
      "metadata": {
        "id": "fZTZpevpbXaV"
      },
      "source": [
        "s1 = pd.Series([1, 2, 3, 4, 5, 6], index=pd.date_range('20201113', periods=6))"
      ],
      "execution_count": 53,
      "outputs": []
    },
    {
      "cell_type": "code",
      "metadata": {
        "id": "-VgsTotJbYHl"
      },
      "source": [
        "df['F'] = s1"
      ],
      "execution_count": 54,
      "outputs": []
    },
    {
      "cell_type": "code",
      "metadata": {
        "id": "1OQhsQX2bsEl"
      },
      "source": [
        "df.at[dates[0],'A'] = 0 \n",
        "df.iat[0,1] = 0  \n",
        "df.loc[:,'D'] = np.array([5] * len(df))"
      ],
      "execution_count": 56,
      "outputs": []
    },
    {
      "cell_type": "code",
      "metadata": {
        "id": "snV9jpd1bwD1"
      },
      "source": [
        "df2 = df\n",
        "df2[df2>0] = -df2"
      ],
      "execution_count": 57,
      "outputs": []
    },
    {
      "cell_type": "code",
      "metadata": {
        "id": "e9G0ElnXb0Gq"
      },
      "source": [
        ""
      ],
      "execution_count": null,
      "outputs": []
    }
  ]
}